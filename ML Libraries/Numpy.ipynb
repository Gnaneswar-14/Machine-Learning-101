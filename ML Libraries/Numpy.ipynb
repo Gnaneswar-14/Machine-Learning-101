{
 "cells": [
  {
   "cell_type": "markdown",
   "id": "71cabe1e",
   "metadata": {},
   "source": [
    "# Numpy\n",
    "\n",
    "* Numpy is general-purpose array-processing library.\n",
    "* It provided a high-performance multi-dimentional array object, and tools for working with arrays.\n",
    "* It adds powerful data structures to Python that guarantee efficient calculations with arrays and matrices and it supplies an enormous library of high-level mathematical functions that operate on these arrays and matrices.\n",
    "* Numpy array is a collection of homogeneous elements.\n",
    "* For more information refer - https://numpy.org/doc/stable/user/absolute_beginners.html"
   ]
  },
  {
   "cell_type": "code",
   "execution_count": 2,
   "id": "433cc022",
   "metadata": {},
   "outputs": [],
   "source": [
    "# Importing \n",
    "\n",
    "import numpy as np"
   ]
  },
  {
   "cell_type": "code",
   "execution_count": 3,
   "id": "3fb8711e",
   "metadata": {},
   "outputs": [
    {
     "name": "stdout",
     "output_type": "stream",
     "text": [
      "<class 'numpy.ndarray'>\n"
     ]
    },
    {
     "data": {
      "text/plain": [
       "array([ 2,  4,  6,  8, 10])"
      ]
     },
     "execution_count": 3,
     "metadata": {},
     "output_type": "execute_result"
    }
   ],
   "source": [
    "# Creating a list\n",
    "\n",
    "l = [2, 4, 6, 8, 10]\n",
    "\n",
    "# Converting list to numpy array\n",
    "arr = np.array(l)\n",
    "\n",
    "print(type(arr))\n",
    "arr # 1-D array"
   ]
  },
  {
   "cell_type": "code",
   "execution_count": 4,
   "id": "eb56de2c",
   "metadata": {},
   "outputs": [
    {
     "data": {
      "text/plain": [
       "(5,)"
      ]
     },
     "execution_count": 4,
     "metadata": {},
     "output_type": "execute_result"
    }
   ],
   "source": [
    "# Shape (Gives number of rows and columns)\n",
    "\n",
    "arr.shape"
   ]
  },
  {
   "cell_type": "code",
   "execution_count": 5,
   "id": "354674d7",
   "metadata": {},
   "outputs": [
    {
     "data": {
      "text/plain": [
       "array([[ 1,  2,  3,  4],\n",
       "       [ 4,  5,  6,  7],\n",
       "       [ 7,  8,  9, 10]])"
      ]
     },
     "execution_count": 5,
     "metadata": {},
     "output_type": "execute_result"
    }
   ],
   "source": [
    "# Multi-Dimensionl array\n",
    "\n",
    "l1 = [1, 2, 3, 4]\n",
    "l2 = [4, 5, 6, 7]\n",
    "l3 = [7, 8, 9, 10]\n",
    "\n",
    "arr1 = np.array([l1, l2, l3])\n",
    "arr1"
   ]
  },
  {
   "cell_type": "code",
   "execution_count": 6,
   "id": "2a13352b",
   "metadata": {},
   "outputs": [
    {
     "data": {
      "text/plain": [
       "(3, 4)"
      ]
     },
     "execution_count": 6,
     "metadata": {},
     "output_type": "execute_result"
    }
   ],
   "source": [
    "arr1.shape"
   ]
  },
  {
   "cell_type": "code",
   "execution_count": 7,
   "id": "5f8e0aa9",
   "metadata": {},
   "outputs": [
    {
     "data": {
      "text/plain": [
       "array([[ 1,  2,  3],\n",
       "       [ 4,  4,  5],\n",
       "       [ 6,  7,  7],\n",
       "       [ 8,  9, 10]])"
      ]
     },
     "execution_count": 7,
     "metadata": {},
     "output_type": "execute_result"
    }
   ],
   "source": [
    "# How do I change the dimensions of an array?\n",
    "# Make sure the rows*columns match with the total number of elements while using reshape\n",
    "\n",
    "arr1.reshape(4, 3)"
   ]
  },
  {
   "cell_type": "code",
   "execution_count": 8,
   "id": "62b926d8",
   "metadata": {},
   "outputs": [
    {
     "ename": "ValueError",
     "evalue": "cannot reshape array of size 12 into shape (5,4)",
     "output_type": "error",
     "traceback": [
      "\u001b[1;31m---------------------------------------------------------------------------\u001b[0m",
      "\u001b[1;31mValueError\u001b[0m                                Traceback (most recent call last)",
      "Cell \u001b[1;32mIn[8], line 1\u001b[0m\n\u001b[1;32m----> 1\u001b[0m arr1\u001b[38;5;241m.\u001b[39mreshape(\u001b[38;5;241m5\u001b[39m, \u001b[38;5;241m4\u001b[39m)\n",
      "\u001b[1;31mValueError\u001b[0m: cannot reshape array of size 12 into shape (5,4)"
     ]
    }
   ],
   "source": [
    "arr1.reshape(5, 4) # ValueError: cannot reshape array of size 12 into shape (5,4)"
   ]
  },
  {
   "cell_type": "markdown",
   "id": "9b698a8e",
   "metadata": {},
   "source": [
    "### Indexing "
   ]
  },
  {
   "cell_type": "code",
   "execution_count": 9,
   "id": "91b959fe",
   "metadata": {},
   "outputs": [
    {
     "data": {
      "text/plain": [
       "3"
      ]
     },
     "execution_count": 9,
     "metadata": {},
     "output_type": "execute_result"
    }
   ],
   "source": [
    "# Creating a 1-D array\n",
    "\n",
    "arr2 = np.array([1, 2, 3, 4, 5])\n",
    "\n",
    "# Accessing elements of array\n",
    "arr2[2]"
   ]
  },
  {
   "cell_type": "code",
   "execution_count": 10,
   "id": "748e7131",
   "metadata": {},
   "outputs": [
    {
     "data": {
      "text/plain": [
       "3"
      ]
     },
     "execution_count": 10,
     "metadata": {},
     "output_type": "execute_result"
    }
   ],
   "source": [
    "# Creating a 2-D array\n",
    "\n",
    "arr3 = np.array([[1, 2, 3], [2, 4, 6], [2, 5, 7]])\n",
    "\n",
    "# Accessing elements of array \n",
    "arr3[0][2]"
   ]
  },
  {
   "cell_type": "code",
   "execution_count": 11,
   "id": "f5f7eaf6",
   "metadata": {},
   "outputs": [
    {
     "data": {
      "text/plain": [
       "array([[1, 2, 3],\n",
       "       [2, 4, 6],\n",
       "       [2, 5, 7]])"
      ]
     },
     "execution_count": 11,
     "metadata": {},
     "output_type": "execute_result"
    }
   ],
   "source": [
    "# Slicing through array\n",
    "\n",
    "arr3[:, :]"
   ]
  },
  {
   "cell_type": "code",
   "execution_count": 12,
   "id": "646bead2",
   "metadata": {},
   "outputs": [
    {
     "data": {
      "text/plain": [
       "array([[1, 2],\n",
       "       [2, 4]])"
      ]
     },
     "execution_count": 12,
     "metadata": {},
     "output_type": "execute_result"
    }
   ],
   "source": [
    "arr3[0:2, 0:2] # First two rows, first two elements"
   ]
  },
  {
   "cell_type": "code",
   "execution_count": 13,
   "id": "2d364896",
   "metadata": {},
   "outputs": [
    {
     "data": {
      "text/plain": [
       "array([[1],\n",
       "       [2],\n",
       "       [2]])"
      ]
     },
     "execution_count": 13,
     "metadata": {},
     "output_type": "execute_result"
    }
   ],
   "source": [
    "arr3[:3, :1]"
   ]
  },
  {
   "cell_type": "code",
   "execution_count": 14,
   "id": "d75873ab",
   "metadata": {},
   "outputs": [
    {
     "data": {
      "text/plain": [
       "array([[1, 2, 3, 4, 5],\n",
       "       [2, 3, 4, 5, 6],\n",
       "       [9, 7, 6, 8, 9]])"
      ]
     },
     "execution_count": 14,
     "metadata": {},
     "output_type": "execute_result"
    }
   ],
   "source": [
    "arr4 = np.array([[1, 2, 3, 4, 5], [2, 3, 4, 5, 6], [9, 7, 6, 8, 9]])\n",
    "\n",
    "arr4"
   ]
  },
  {
   "cell_type": "code",
   "execution_count": 15,
   "id": "319c48d4",
   "metadata": {},
   "outputs": [
    {
     "data": {
      "text/plain": [
       "(array([4, 5]), array([8, 9]))"
      ]
     },
     "execution_count": 15,
     "metadata": {},
     "output_type": "execute_result"
    }
   ],
   "source": [
    "arr4[1, 2:4], arr4[2, 3:5] # Accessing 4,5 from 1st row and 6,8 from second row (Using o based indexing)"
   ]
  },
  {
   "cell_type": "markdown",
   "id": "bfa3979f",
   "metadata": {},
   "source": [
    "### In-Built Functions"
   ]
  },
  {
   "cell_type": "code",
   "execution_count": 16,
   "id": "8ef53904",
   "metadata": {},
   "outputs": [
    {
     "data": {
      "text/plain": [
       "array([0, 1, 2, 3, 4])"
      ]
     },
     "execution_count": 16,
     "metadata": {},
     "output_type": "execute_result"
    }
   ],
   "source": [
    "# arange - Creates a 1-D array\n",
    "# Syntax - np.arange(start, stop, step)\n",
    "\n",
    "arr5 = np.arange(0, 5)\n",
    "arr5"
   ]
  },
  {
   "cell_type": "code",
   "execution_count": 17,
   "id": "7864b47b",
   "metadata": {},
   "outputs": [
    {
     "data": {
      "text/plain": [
       "array([0, 2, 4, 6, 8])"
      ]
     },
     "execution_count": 17,
     "metadata": {},
     "output_type": "execute_result"
    }
   ],
   "source": [
    "arr6 = np.arange(0, 10, 2)\n",
    "arr6"
   ]
  },
  {
   "cell_type": "code",
   "execution_count": 18,
   "id": "d7791fc5",
   "metadata": {},
   "outputs": [
    {
     "data": {
      "text/plain": [
       "array([0.        , 0.55555556, 1.11111111, 1.66666667, 2.22222222,\n",
       "       2.77777778, 3.33333333, 3.88888889, 4.44444444, 5.        ])"
      ]
     },
     "execution_count": 18,
     "metadata": {},
     "output_type": "execute_result"
    }
   ],
   "source": [
    "# linspace - Creates equally spaced points \n",
    "# Syntax - np.linspace(start, stop, num=50, endpoint=True, retstep=False, dtype=None)\n",
    "\n",
    "arr7 = np.linspace(0, 5, num=10)\n",
    "arr7"
   ]
  },
  {
   "cell_type": "code",
   "execution_count": 19,
   "id": "b9db5cea",
   "metadata": {},
   "outputs": [
    {
     "data": {
      "text/plain": [
       "array([  1,   2,   3, 100, 100])"
      ]
     },
     "execution_count": 19,
     "metadata": {},
     "output_type": "execute_result"
    }
   ],
   "source": [
    "# broadcasting - replacing array elements by some value\n",
    "\n",
    "arr8 = np.array([1, 2, 3, 4, 5])\n",
    "arr8[3:] = 100 # Replacing 4, 5 with 100\n",
    "arr8"
   ]
  },
  {
   "cell_type": "code",
   "execution_count": 20,
   "id": "65e5feb4",
   "metadata": {},
   "outputs": [
    {
     "data": {
      "text/plain": [
       "array([  1,   2,   3, 500, 500])"
      ]
     },
     "execution_count": 20,
     "metadata": {},
     "output_type": "execute_result"
    }
   ],
   "source": [
    "arr9 = np.array([1, 2, 3, 4, 5])\n",
    "arr9[3:] = 500\n",
    "arr9"
   ]
  },
  {
   "cell_type": "code",
   "execution_count": 21,
   "id": "becc73d0",
   "metadata": {},
   "outputs": [
    {
     "data": {
      "text/plain": [
       "array([   1,    2,    3, 1000, 1000])"
      ]
     },
     "execution_count": 21,
     "metadata": {},
     "output_type": "execute_result"
    }
   ],
   "source": [
    "# copy - creates a copy of an array (creating another memory space)\n",
    "\n",
    "arr9 = arr8.copy()\n",
    "arr9[3:] = 1000\n",
    "arr9"
   ]
  },
  {
   "cell_type": "code",
   "execution_count": 22,
   "id": "103910a8",
   "metadata": {},
   "outputs": [
    {
     "data": {
      "text/plain": [
       "array([  1,   2,   3, 100, 100])"
      ]
     },
     "execution_count": 22,
     "metadata": {},
     "output_type": "execute_result"
    }
   ],
   "source": [
    "arr8"
   ]
  },
  {
   "cell_type": "code",
   "execution_count": 23,
   "id": "0de2ab70",
   "metadata": {},
   "outputs": [
    {
     "data": {
      "text/plain": [
       "array([False, False, False,  True,  True])"
      ]
     },
     "execution_count": 23,
     "metadata": {},
     "output_type": "execute_result"
    }
   ],
   "source": [
    "# Creating a variable and an array\n",
    "\n",
    "x = 5\n",
    "arr10 = np.array([2, 4, 5, 8, 10])\n",
    "\n",
    "arr10 > 5 # Simillary can perform math operations such as *, /, %"
   ]
  },
  {
   "cell_type": "code",
   "execution_count": 24,
   "id": "a837b305",
   "metadata": {},
   "outputs": [
    {
     "data": {
      "text/plain": [
       "array([2, 4])"
      ]
     },
     "execution_count": 24,
     "metadata": {},
     "output_type": "execute_result"
    }
   ],
   "source": [
    "arr10[arr10 < 5] # Returns elements which are less than 5"
   ]
  },
  {
   "cell_type": "code",
   "execution_count": 25,
   "id": "eaf22466",
   "metadata": {},
   "outputs": [
    {
     "data": {
      "text/plain": [
       "array([ 2,  8, 18])"
      ]
     },
     "execution_count": 25,
     "metadata": {},
     "output_type": "execute_result"
    }
   ],
   "source": [
    "# Multiplication of arrays\n",
    "\n",
    "arr11 = np.array([1, 2, 3])\n",
    "arr12 = np.array([2, 4, 6])\n",
    "\n",
    "arr11 * arr12"
   ]
  },
  {
   "cell_type": "markdown",
   "id": "6ec2a8d9",
   "metadata": {},
   "source": [
    "**Important - For multiplication in case of multi-dimentional arrays, the number of columns of first n-D array should be equal to number of rows of second n-D array**"
   ]
  },
  {
   "cell_type": "code",
   "execution_count": 26,
   "id": "de99918f",
   "metadata": {},
   "outputs": [
    {
     "data": {
      "text/plain": [
       "array([[1, 1],\n",
       "       [1, 1]])"
      ]
     },
     "execution_count": 26,
     "metadata": {},
     "output_type": "execute_result"
    }
   ],
   "source": [
    "# ones - Creates an array with 1's as all elements \n",
    "# Syntax - np.ones(shapem dtype)\n",
    "\n",
    "arr13 = np.ones((2, 2), dtype=int)\n",
    "arr13"
   ]
  },
  {
   "cell_type": "code",
   "execution_count": 27,
   "id": "96ce3f20",
   "metadata": {},
   "outputs": [
    {
     "data": {
      "text/plain": [
       "array([[0, 0],\n",
       "       [0, 0]])"
      ]
     },
     "execution_count": 27,
     "metadata": {},
     "output_type": "execute_result"
    }
   ],
   "source": [
    "# zeros - Creates an array with 0's as all elements \n",
    "# Syntax - np.zeros(shapem dtype)\n",
    "\n",
    "arr14 = np.zeros((2, 2), dtype=int)\n",
    "arr14"
   ]
  },
  {
   "cell_type": "code",
   "execution_count": 28,
   "id": "7a626c3d",
   "metadata": {},
   "outputs": [
    {
     "data": {
      "text/plain": [
       "array([[0.36604961, 0.23560356],\n",
       "       [0.46590595, 0.04050182]])"
      ]
     },
     "execution_count": 28,
     "metadata": {},
     "output_type": "execute_result"
    }
   ],
   "source": [
    "# rand() - Creates a random distribution b/w 0 to 1 using uniform distribution\n",
    "# Syntax - np.random.rand(shape)\n",
    "\n",
    "arr15 = np.random.rand(2, 2)\n",
    "arr15"
   ]
  },
  {
   "cell_type": "code",
   "execution_count": 29,
   "id": "5024d5db",
   "metadata": {},
   "outputs": [
    {
     "data": {
      "text/plain": [
       "array([[0.24007409, 1.2088535 ],\n",
       "       [0.51021267, 1.88191938]])"
      ]
     },
     "execution_count": 29,
     "metadata": {},
     "output_type": "execute_result"
    }
   ],
   "source": [
    "# randn - Creates a random distribution using standard normal distribution\n",
    "# Syntax - np.random.randn(shape)\n",
    "\n",
    "arr16 = np.random.randn(2, 2)\n",
    "arr16"
   ]
  },
  {
   "cell_type": "code",
   "execution_count": 32,
   "id": "8408e8d6",
   "metadata": {},
   "outputs": [
    {
     "data": {
      "text/plain": [
       "array([7, 4, 2, 1, 9])"
      ]
     },
     "execution_count": 32,
     "metadata": {},
     "output_type": "execute_result"
    }
   ],
   "source": [
    "# randint - Creates a array with random elements \n",
    "# Syntax - np.random.randit(low, high, size, dtype)\n",
    "\n",
    "arr17 = np.random.randint(low=0, high=10, size=5, dtype=int)\n",
    "arr17"
   ]
  },
  {
   "cell_type": "code",
   "execution_count": 34,
   "id": "db1d5df0",
   "metadata": {},
   "outputs": [
    {
     "ename": "SyntaxError",
     "evalue": "incomplete input (2253936350.py, line 4)",
     "output_type": "error",
     "traceback": [
      "\u001b[1;36m  Cell \u001b[1;32mIn[34], line 4\u001b[1;36m\u001b[0m\n\u001b[1;33m    arr18 = np.random.random_sample((1, 2)\u001b[0m\n\u001b[1;37m                                          ^\u001b[0m\n\u001b[1;31mSyntaxError\u001b[0m\u001b[1;31m:\u001b[0m incomplete input\n"
     ]
    }
   ],
   "source": [
    "# random_sample - Creates random floats in half open interval [0.0, 1.0) based on continuous distribution\n",
    "# Syntax - np.random.random_sample()\n",
    "\n",
    "arr18 = np.random.random_sample((1, 2))"
   ]
  },
  {
   "cell_type": "code",
   "execution_count": null,
   "id": "e3319ef3",
   "metadata": {},
   "outputs": [],
   "source": []
  }
 ],
 "metadata": {
  "kernelspec": {
   "display_name": "Python 3 (ipykernel)",
   "language": "python",
   "name": "python3"
  },
  "language_info": {
   "codemirror_mode": {
    "name": "ipython",
    "version": 3
   },
   "file_extension": ".py",
   "mimetype": "text/x-python",
   "name": "python",
   "nbconvert_exporter": "python",
   "pygments_lexer": "ipython3",
   "version": "3.11.4"
  }
 },
 "nbformat": 4,
 "nbformat_minor": 5
}
