{
 "cells": [
  {
   "cell_type": "markdown",
   "id": "290a4ff6",
   "metadata": {},
   "source": [
    "## SETS\n",
    "\n",
    "* A Set is an unorderd collection of items that is iterable, mutable (can be manipulated such as add/delete an item), and has no duplicate items. \n",
    "* It represents the **Set** from Mathematics and this is based on a data structure known as **Hash Table**.\n",
    "* A set is representd by **Curly Brackets {}**.\n",
    "* For more information refer - https://www.geeksforgeeks.org/sets-in-python/"
   ]
  },
  {
   "cell_type": "code",
   "execution_count": 1,
   "id": "7b4325e9",
   "metadata": {},
   "outputs": [
    {
     "name": "stdout",
     "output_type": "stream",
     "text": [
      "<class 'set'>\n"
     ]
    }
   ],
   "source": [
    "# Empty Set\n",
    "\n",
    "my_set = set()\n",
    "print(type(my_set))"
   ]
  },
  {
   "cell_type": "code",
   "execution_count": 2,
   "id": "aaee1471",
   "metadata": {},
   "outputs": [
    {
     "name": "stdout",
     "output_type": "stream",
     "text": [
      "{'Thor', 'Hulk', 'Spider Man'}\n"
     ]
    }
   ],
   "source": [
    "# Set of some distcint elements\n",
    "\n",
    "marvel_set = {'Thor', 'Hulk', 'Spider Man'}\n",
    "print(marvel_set)"
   ]
  },
  {
   "cell_type": "code",
   "execution_count": 3,
   "id": "930ff0df",
   "metadata": {},
   "outputs": [
    {
     "name": "stdout",
     "output_type": "stream",
     "text": [
      "{'Thor', 'Hulk', 'Spider Man', 'Iron Man'}\n"
     ]
    }
   ],
   "source": [
    "# Add an element to marvel_set\n",
    "\n",
    "marvel_set.add('Iron Man')\n",
    "print(marvel_set)"
   ]
  },
  {
   "cell_type": "code",
   "execution_count": 4,
   "id": "6b4f165d",
   "metadata": {},
   "outputs": [
    {
     "data": {
      "text/plain": [
       "{'Guava'}"
      ]
     },
     "execution_count": 4,
     "metadata": {},
     "output_type": "execute_result"
    }
   ],
   "source": [
    "# Set Difference\n",
    "# Note: Always use larger_set.difference(smaller_set)\n",
    "\n",
    "set_1 = {'Apple', 'Banana', 'Orange', 'Guava'}\n",
    "set_2 = {'Apple', 'Banana', 'Orange'}\n",
    "\n",
    "set_1.difference(set_2)"
   ]
  },
  {
   "cell_type": "code",
   "execution_count": 5,
   "id": "85ceaf6f",
   "metadata": {},
   "outputs": [
    {
     "name": "stdout",
     "output_type": "stream",
     "text": [
      "{'Guava'}\n"
     ]
    }
   ],
   "source": [
    "# Difference Update - this will basically find the difference and update the larger set with the difference element(s)\n",
    "\n",
    "set_1.difference_update(set_2)\n",
    "print(set_1)"
   ]
  },
  {
   "cell_type": "code",
   "execution_count": 8,
   "id": "8cd323e0",
   "metadata": {},
   "outputs": [
    {
     "data": {
      "text/plain": [
       "{'Apple', 'Banana', 'Orange'}"
      ]
     },
     "execution_count": 8,
     "metadata": {},
     "output_type": "execute_result"
    }
   ],
   "source": [
    "# Intersection - Returns the common elements b/w the two sets\n",
    "\n",
    "new_set_1 = {'Apple', 'Banana', 'Orange', 'Guava'}\n",
    "new_set_2 = {'Apple', 'Banana', 'Orange'}\n",
    "\n",
    "new_set_1.intersection(set_2)\n",
    "\n",
    "# The intersection_update will also work similar to the difference_update except it will update the set with the intersection values."
   ]
  },
  {
   "cell_type": "markdown",
   "id": "d6727575",
   "metadata": {},
   "source": [
    "# Dictionaries\n",
    "\n",
    "* A Dictionary is an unordered collection of items. \n",
    "* Items are stored as **Key : Value** pairs. \n",
    "* A dictionary is represented by **Curly Brackets {}**.\n",
    "* For more information refer - https://www.geeksforgeeks.org/python-dictionary/"
   ]
  },
  {
   "cell_type": "code",
   "execution_count": 11,
   "id": "a93baa27",
   "metadata": {},
   "outputs": [
    {
     "name": "stdout",
     "output_type": "stream",
     "text": [
      "<class 'dict'>\n"
     ]
    }
   ],
   "source": [
    "# Empty Dictionary \n",
    "\n",
    "my_dict = dict()\n",
    "print(type(my_dict))"
   ]
  },
  {
   "cell_type": "code",
   "execution_count": 15,
   "id": "a85ad87b",
   "metadata": {},
   "outputs": [
    {
     "name": "stdout",
     "output_type": "stream",
     "text": [
      "{'Car_A': 'Audi A6', 'Car_B': 'BMW', 'Car_C': 'Cadillac'}\n"
     ]
    }
   ],
   "source": [
    "# Dictionary with some items in it\n",
    "\n",
    "cars_dict = {\"Car_A\" : \"Audi A6\", \"Car_B\" : \"BMW\", \"Car_C\" : \"Cadillac\"}\n",
    "print(cars_dict)"
   ]
  },
  {
   "cell_type": "code",
   "execution_count": 18,
   "id": "7b786a5b",
   "metadata": {},
   "outputs": [
    {
     "name": "stdout",
     "output_type": "stream",
     "text": [
      "dict_keys(['Car_A', 'Car_B', 'Car_C'])\n",
      "dict_values(['Audi A6', 'BMW', 'Cadillac'])\n"
     ]
    }
   ],
   "source": [
    "# Accessing keys & values of dictionary\n",
    "\n",
    "print(cars_dict.keys())\n",
    "print(cars_dict.values())"
   ]
  },
  {
   "cell_type": "code",
   "execution_count": 20,
   "id": "8deda34d",
   "metadata": {},
   "outputs": [
    {
     "name": "stdout",
     "output_type": "stream",
     "text": [
      "BMW\n",
      "BMW\n"
     ]
    }
   ],
   "source": [
    "# Accessing values of dictionary using keys \n",
    "\n",
    "print(cars_dict['Car_B'])\n",
    "print(cars_dict.get('Car_B'))"
   ]
  },
  {
   "cell_type": "code",
   "execution_count": 27,
   "id": "477ce213",
   "metadata": {},
   "outputs": [
    {
     "name": "stdout",
     "output_type": "stream",
     "text": [
      "Car_A Audi A6\n",
      "Car_B BMW\n",
      "Car_C Cadillac\n"
     ]
    }
   ],
   "source": [
    "# Iterate through dictionary as key, value\n",
    "\n",
    "for k, v in cars_dict.items():\n",
    "    print(k, v)"
   ]
  },
  {
   "cell_type": "code",
   "execution_count": 29,
   "id": "153a1f1a",
   "metadata": {},
   "outputs": [
    {
     "name": "stdout",
     "output_type": "stream",
     "text": [
      "{'Car_A': 'Audi A6', 'Car_B': 'BMW', 'Car_C': 'Cadillac', 'Car_D': 'Bently'}\n"
     ]
    }
   ],
   "source": [
    "# Adding items to dictionary \n",
    "\n",
    "cars_dict['Car_D'] = 'Bently'\n",
    "print(cars_dict)"
   ]
  },
  {
   "cell_type": "code",
   "execution_count": 30,
   "id": "6c586db9",
   "metadata": {},
   "outputs": [
    {
     "name": "stdout",
     "output_type": "stream",
     "text": [
      "{'Car_A': 'Mercedes Benz', 'Car_B': 'BMW', 'Car_C': 'Cadillac', 'Car_D': 'Bently'}\n"
     ]
    }
   ],
   "source": [
    "# You can over write a key's value \n",
    "\n",
    "cars_dict['Car_A'] = 'Mercedes Benz'\n",
    "print(cars_dict)"
   ]
  },
  {
   "cell_type": "markdown",
   "id": "a23f8954",
   "metadata": {},
   "source": [
    "# Nested Dictionaries"
   ]
  },
  {
   "cell_type": "code",
   "execution_count": 31,
   "id": "aa298f81",
   "metadata": {},
   "outputs": [
    {
     "name": "stdout",
     "output_type": "stream",
     "text": [
      "{'Student_1': {'Name': 'Mike'}, 'Student_2': {'Name': 'Jake'}, 'Student_3': {'Name': 'Maya'}}\n"
     ]
    }
   ],
   "source": [
    "student_1 = {'Name' : 'Mike'}\n",
    "student_2 = {'Name' : 'Jake'}\n",
    "student_3 = {'Name' : 'Maya'}\n",
    "\n",
    "class_room = {'Student_1' : student_1, 'Student_2' : student_2, 'Student_3' : student_3}\n",
    "print(class_room)"
   ]
  },
  {
   "cell_type": "code",
   "execution_count": 32,
   "id": "0c0a3e5e",
   "metadata": {},
   "outputs": [
    {
     "name": "stdout",
     "output_type": "stream",
     "text": [
      "{'Name': 'Maya'}\n"
     ]
    }
   ],
   "source": [
    "# Accessing dictionary items\n",
    "\n",
    "print(class_room['Student_3'])"
   ]
  },
  {
   "cell_type": "code",
   "execution_count": 33,
   "id": "9319dca4",
   "metadata": {},
   "outputs": [
    {
     "name": "stdout",
     "output_type": "stream",
     "text": [
      "Maya\n"
     ]
    }
   ],
   "source": [
    "# Accessing dictionary key's value\n",
    "\n",
    "print(class_room['Student_3']['Name'])"
   ]
  },
  {
   "cell_type": "markdown",
   "id": "2a0200f0",
   "metadata": {},
   "source": [
    "# Tuples\n",
    "\n",
    "* Tuple is a collection of items. And is represented by **Empty Brackets ()**.\n",
    "* It is similar to list.\n",
    "* The main difference b/w list and tuple is that, tuples are **immutable**, meaning, you cannot update the value of items of the tuple. \n",
    "* For more information refer - https://www.geeksforgeeks.org/tuples-in-python/"
   ]
  },
  {
   "cell_type": "code",
   "execution_count": 34,
   "id": "fb4736a8",
   "metadata": {},
   "outputs": [
    {
     "name": "stdout",
     "output_type": "stream",
     "text": [
      "<class 'tuple'>\n"
     ]
    }
   ],
   "source": [
    "# Empty tuple\n",
    "\n",
    "my_tuple = ()\n",
    "print(type(my_tuple))"
   ]
  },
  {
   "cell_type": "code",
   "execution_count": 35,
   "id": "ff217a49",
   "metadata": {},
   "outputs": [
    {
     "name": "stdout",
     "output_type": "stream",
     "text": [
      "('CR7', 'LM10', 'KB9')\n"
     ]
    }
   ],
   "source": [
    "# Tuple with some items in it\n",
    "\n",
    "names_tuple = ('CR7', 'LM10', 'KB9')\n",
    "print(names_tuple)"
   ]
  },
  {
   "cell_type": "code",
   "execution_count": 36,
   "id": "555b8ad1",
   "metadata": {},
   "outputs": [
    {
     "name": "stdout",
     "output_type": "stream",
     "text": [
      "LM10\n"
     ]
    }
   ],
   "source": [
    "# Accessing tuple items by using indexing - indexing starts from 0\n",
    "\n",
    "print(names_tuple[1])"
   ]
  },
  {
   "cell_type": "code",
   "execution_count": 37,
   "id": "96591548",
   "metadata": {},
   "outputs": [
    {
     "name": "stdout",
     "output_type": "stream",
     "text": [
      "1\n"
     ]
    }
   ],
   "source": [
    "# Counting occurence of an item in a tuple\n",
    "\n",
    "print(names_tuple.count('KB9'))"
   ]
  },
  {
   "cell_type": "code",
   "execution_count": null,
   "id": "d01010a2",
   "metadata": {},
   "outputs": [],
   "source": [
    "# Getting index of an item \n",
    "\n",
    "print(names_tuple.index)"
   ]
  }
 ],
 "metadata": {
  "kernelspec": {
   "display_name": "Python 3 (ipykernel)",
   "language": "python",
   "name": "python3"
  },
  "language_info": {
   "codemirror_mode": {
    "name": "ipython",
    "version": 3
   },
   "file_extension": ".py",
   "mimetype": "text/x-python",
   "name": "python",
   "nbconvert_exporter": "python",
   "pygments_lexer": "ipython3",
   "version": "3.11.4"
  }
 },
 "nbformat": 4,
 "nbformat_minor": 5
}
